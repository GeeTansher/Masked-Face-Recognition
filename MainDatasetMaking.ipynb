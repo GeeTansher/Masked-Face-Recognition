{
 "cells": [
  {
   "cell_type": "code",
   "execution_count": 1,
   "metadata": {},
   "outputs": [],
   "source": [
    "import cv2\n",
    "import numpy as np\n",
    "import os\n",
    "import uuid"
   ]
  },
  {
   "cell_type": "code",
   "execution_count": 2,
   "metadata": {},
   "outputs": [],
   "source": [
    "draw = False\n",
    "Img = None\n",
    "a=b=-1\n",
    "PATH = 'D:\\ML DEEP LEARNING FACE\\Masked Face Recognition\\data\\MaskImages\\without_mask'"
   ]
  },
  {
   "cell_type": "code",
   "execution_count": 3,
   "metadata": {},
   "outputs": [],
   "source": [
    "def drawShape(event, x, y, flags, params):\n",
    "    global draw,a,b,Img,img\n",
    "    \n",
    "    if(event == cv2.EVENT_LBUTTONDOWN):\n",
    "        draw = True\n",
    "        a,b = x,y\n",
    "            \n",
    "    elif(event == cv2.EVENT_LBUTTONUP):\n",
    "        draw = False\n",
    "        cv2.rectangle(img,(a,b),(x,y),(0,255,0),2)\n",
    "        Img = img[b+2:y-2,a+2:x-2]\n",
    "        # cv2.imshow('new',Img)            "
   ]
  },
  {
   "cell_type": "code",
   "execution_count": 6,
   "metadata": {},
   "outputs": [],
   "source": [
    "img = cv2.imread(r'download (1).jfif')\n",
    "cv2.namedWindow('image')\n",
    "cv2.setMouseCallback('image',drawShape)\n",
    "while(True):\n",
    "    cv2.imshow('image',img)\n",
    "    k = cv2.waitKey(3)\n",
    "    if(k==ord('a')):\n",
    "        cv2.imwrite(r\"D:\\ML DEEP LEARNING FACE\\Masked Face Recognition\\hello.jpg\",Img)\n",
    "    elif(k==ord('n')):\n",
    "        img = cv2.imread(r'download (1).jfif')\n",
    "    elif(k==27):\n",
    "        break\n",
    "    \n",
    "cv2.destroyAllWindows()"
   ]
  },
  {
   "cell_type": "code",
   "execution_count": 6,
   "metadata": {},
   "outputs": [
    {
     "ename": "",
     "evalue": "",
     "output_type": "error",
     "traceback": [
      "\u001b[1;31mCanceled future for execute_request message before replies were done"
     ]
    },
    {
     "ename": "",
     "evalue": "",
     "output_type": "error",
     "traceback": [
      "\u001b[1;31mThe Kernel crashed while executing code in the the current cell or a previous cell. Please review the code in the cell(s) to identify a possible cause of the failure. Click <a href='https://aka.ms/vscodeJupyterKernelCrash'>here</a> for more info. View Jupyter <a href='command:jupyter.viewOutput'>log</a> for further details."
     ]
    }
   ],
   "source": [
    "for image in os.listdir(r'D:\\ML DEEP LEARNING FACE\\Masked Face Recognition\\data\\MaskImages\\without_mask'):\n",
    "    img = cv2.imread(os.path.join(PATH,image))\n",
    "    cv2.namedWindow('image')\n",
    "    cv2.setMouseCallback('image',drawShape)\n",
    "    while(True):\n",
    "        cv2.imshow('image',img)\n",
    "        k = cv2.waitKey(3)\n",
    "        if(k==ord('a')):\n",
    "            cv2.imwrite(r\"D:\\ML DEEP LEARNING FACE\\Masked Face Recognition\\hello.jpg\",Img)\n",
    "            # cv2.imshow('new',Img)\n",
    "        elif(k==ord('n')):\n",
    "            img = cv2.imread(os.path.join(PATH,image))\n",
    "        elif(k==ord('q')):\n",
    "            break\n",
    "    \n",
    "    k = cv2.waitKey(10)\n",
    "    if(k==27):\n",
    "        break\n",
    "cv2.destroyAllWindows()"
   ]
  },
  {
   "cell_type": "code",
   "execution_count": 8,
   "metadata": {},
   "outputs": [
    {
     "data": {
      "text/plain": [
       "'Dataset\\\\Aishwarya Rai\\\\main\\\\88f7ee5a-5d45-11ed-9388-90324b084670.jpg'"
      ]
     },
     "execution_count": 8,
     "metadata": {},
     "output_type": "execute_result"
    }
   ],
   "source": [
    "p = os.path.join(r'Dataset\\Aishwarya Rai',r\"main\",'{}.jpg'.format(uuid.uuid1()))\n",
    "p"
   ]
  },
  {
   "cell_type": "code",
   "execution_count": 6,
   "metadata": {},
   "outputs": [],
   "source": [
    "for folder in os.listdir(r'Dataset'):\n",
    "    path = os.path.join(r'Dataset',folder)\n",
    "    k = cv2.waitKey(0)\n",
    "    if(k==ord('1')):\n",
    "        break\n",
    "    for image in os.listdir(path):\n",
    "        img = cv2.imread(os.path.join(path,image))\n",
    "        cv2.namedWindow('image')\n",
    "        cv2.setMouseCallback('image',drawShape)\n",
    "        while(True):\n",
    "            try:\n",
    "                cv2.imshow('image',img)\n",
    "            except:\n",
    "                break\n",
    "            k = cv2.waitKey(3)\n",
    "            if(k==ord('a')):\n",
    "                cv2.imwrite(os.path.join(path,r\"main\",'{}.jpg'.format(uuid.uuid1())),Img)\n",
    "                break\n",
    "            elif(k==ord('n')):\n",
    "                img = cv2.imread(os.path.join(path,image))\n",
    "            elif(k==27):\n",
    "                break\n",
    "cv2.destroyAllWindows()"
   ]
  }
 ],
 "metadata": {
  "kernelspec": {
   "display_name": "Python 3.9.13 64-bit",
   "language": "python",
   "name": "python3"
  },
  "language_info": {
   "codemirror_mode": {
    "name": "ipython",
    "version": 3
   },
   "file_extension": ".py",
   "mimetype": "text/x-python",
   "name": "python",
   "nbconvert_exporter": "python",
   "pygments_lexer": "ipython3",
   "version": "3.9.13"
  },
  "orig_nbformat": 4,
  "vscode": {
   "interpreter": {
    "hash": "11938c6bc6919ae2720b4d5011047913343b08a43b18698fd82dedb0d4417594"
   }
  }
 },
 "nbformat": 4,
 "nbformat_minor": 2
}
