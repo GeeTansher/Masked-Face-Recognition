{
 "cells": [
  {
   "cell_type": "code",
   "execution_count": null,
   "metadata": {},
   "outputs": [],
   "source": [
    "from google.colab import drive\n",
    "drive.mount('/content/drive')"
   ]
  },
  {
   "cell_type": "code",
   "execution_count": null,
   "metadata": {},
   "outputs": [],
   "source": [
    "from tensorflow.compat.v1 import ConfigProto\n",
    "from tensorflow.compat.v1 import InteractiveSession\n",
    "\n",
    "config = ConfigProto()\n",
    "config.gpu_options.per_process_gpu_memory_fraction = 0.5\n",
    "config.gpu_options.allow_growth = True\n",
    "session = InteractiveSession(config=config)"
   ]
  },
  {
   "cell_type": "code",
   "execution_count": null,
   "metadata": {},
   "outputs": [],
   "source": [
    "import cv2\n",
    "import os\n",
    "import matplotlib.pyplot as plt\n",
    "import glob\n",
    "import numpy as np\n",
    "import joblib\n",
    "import uuid\n",
    "import seaborn as sns"
   ]
  },
  {
   "cell_type": "code",
   "execution_count": null,
   "metadata": {},
   "outputs": [],
   "source": [
    "from tensorflow.keras.applications.mobilenet_v2 import preprocess_input\n",
    "from tensorflow.keras.preprocessing.image import img_to_array\n",
    "from tensorflow.keras.models import load_model, Model\n",
    "from keras.applications.vgg16 import VGG16\n",
    "from tensorflow.keras.layers import Flatten\n",
    "import imutils"
   ]
  },
  {
   "cell_type": "code",
   "execution_count": null,
   "metadata": {},
   "outputs": [],
   "source": [
    "# re-size all the images to this\n",
    "SIZE = 240\n",
    "\n",
    "train_path = '/content/drive/MyDrive/Colab Notebooks/Masked Face Recognition-20221108T101958Z-001/Masked Face Recognition/MainDataset'\n",
    "# valid_path = '/content/drive/MyDrive/Colab Notebooks/Masked Face Recognition/database/Test'\n",
    "DetectorLabels = ['Mask','No Mask']\n"
   ]
  },
  {
   "cell_type": "code",
   "execution_count": null,
   "metadata": {},
   "outputs": [],
   "source": [
    "# Training data and labels into respective lists\n",
    "train_images = []\n",
    "train_labels = []\n",
    "training_data = []\n",
    "prev=0\n",
    "\n",
    "for directory_path in glob.glob(os.path.join(train_path, \"*\")):\n",
    "    label = directory_path.split(\"/\")[-1]\n",
    "    print(label)\n",
    "    for img_path in glob.glob(os.path.join(directory_path, \"*.jpg\")):\n",
    "        # print(img_path)\n",
    "        img = cv2.imread(img_path)       \n",
    "        img = cv2.resize(img, (SIZE,SIZE))\n",
    "        img = cv2.cvtColor(img, cv2.COLOR_RGB2BGR)\n",
    "        train_images.append(img)\n",
    "        train_labels.append(label)\n",
    "        training_data.append([train_images,train_labels])\n",
    "    print(len(train_images)-prev)\n",
    "    prev=len(train_images)\n",
    "\n",
    "train_images = np.array(train_images)\n",
    "train_labels = np.array(train_labels)\n",
    "training_data = np.array(training_data)"
   ]
  },
  {
   "cell_type": "code",
   "execution_count": null,
   "metadata": {},
   "outputs": [],
   "source": [
    "from sklearn.model_selection import train_test_split\n",
    "train_images, test_images, train_labels, test_labels = train_test_split(train_images, train_labels, test_size=0.25, random_state=45)"
   ]
  },
  {
   "cell_type": "code",
   "execution_count": null,
   "metadata": {},
   "outputs": [],
   "source": [
    "#Encode labels from text to integers.\n",
    "from sklearn import preprocessing\n",
    "encoder = preprocessing.LabelEncoder()\n",
    "encoder.fit(train_labels)\n",
    "train_labels_encoded = encoder.transform(train_labels)\n",
    "encoder.fit(test_labels)\n",
    "test_labels_encoded = encoder.transform(test_labels)"
   ]
  },
  {
   "cell_type": "code",
   "execution_count": null,
   "metadata": {},
   "outputs": [],
   "source": [
    "#Inverse transform to get original label back. \n",
    "for i in range (0,12):\n",
    "  print(i,\" \",encoder.inverse_transform([i]))"
   ]
  },
  {
   "cell_type": "code",
   "execution_count": null,
   "metadata": {},
   "outputs": [],
   "source": [
    "train_images = np.array(train_images).reshape(-1,SIZE,SIZE,3)\n",
    "train_images=np.array(train_images)\n",
    "train_images.shape"
   ]
  },
  {
   "cell_type": "code",
   "execution_count": null,
   "metadata": {},
   "outputs": [],
   "source": [
    "train_labels=np.array(train_labels)\n",
    "train_labels.shape"
   ]
  },
  {
   "cell_type": "code",
   "execution_count": null,
   "metadata": {},
   "outputs": [],
   "source": [
    "x_train, y_train, x_test, y_test = train_images, train_labels_encoded, test_images, test_labels_encoded"
   ]
  },
  {
   "cell_type": "code",
   "execution_count": null,
   "metadata": {},
   "outputs": [],
   "source": [
    "def detect_and_predict_mask(frame, faceNet, maskNet):\n",
    "\t# grab the dimensions of the frame and then construct a blob\n",
    "\t# from it\n",
    "\t(h, w) = frame.shape[:2]\n",
    "\tblob = cv2.dnn.blobFromImage(frame, 1.0, (224, 224),\n",
    "\t\t(104.0, 177.0, 123.0))\n",
    "\n",
    "\t# pass the blob through the network and obtain the face detections\n",
    "\tfaceNet.setInput(blob)\n",
    "\tdetections = faceNet.forward()\n",
    "\tprint(detections.shape)\n",
    "\n",
    "\t# initialize our list of faces, their corresponding locations,\n",
    "\t# and the list of predictions from our face mask network\n",
    "\tfaces = []\n",
    "\tlocs = []\n",
    "\tpreds = []\n",
    "\n",
    "\t# loop over the detections\n",
    "\tfor i in range(0, detections.shape[2]):\n",
    "\t\t# extract the confidence (i.e., probability) associated with\n",
    "\t\t# the detection\n",
    "\t\tconfidence = detections[0, 0, i, 2]\n",
    "\n",
    "\t\t# filter out weak detections by ensuring the confidence is\n",
    "\t\t# greater than the minimum confidence\n",
    "\t\tif confidence > 0.5:\n",
    "\t\t\t# compute the (x, y)-coordinates of the bounding box for\n",
    "\t\t\t# the object\n",
    "\t\t\tbox = detections[0, 0, i, 3:7] * np.array([w, h, w, h])\n",
    "\t\t\t(startX, startY, endX, endY) = box.astype(\"int\")\n",
    "\n",
    "\t\t\t# ensure the bounding boxes fall within the dimensions of\n",
    "\t\t\t# the frame\n",
    "\t\t\t(startX, startY) = (max(0, startX), max(0, startY))\n",
    "\t\t\t(endX, endY) = (min(w - 1, endX), min(h - 1, endY))\n",
    "\n",
    "\t\t\t# extract the face ROI, convert it from BGR to RGB channel\n",
    "\t\t\t# ordering, resize it to 224x224, and preprocess it\n",
    "\t\t\tface = frame[startY:endY, startX:endX]\n",
    "\t\t\tface = cv2.cvtColor(face, cv2.COLOR_BGR2RGB)\n",
    "\t\t\tface = cv2.resize(face, (224, 224))\n",
    "\t\t\tface = img_to_array(face)\n",
    "\t\t\tface = preprocess_input(face)\n",
    "\n",
    "\t\t\t# add the face and bounding boxes to their respective\n",
    "\t\t\t# lists\n",
    "\t\t\tfaces.append(face)\n",
    "\t\t\tlocs.append((startX, startY, endX, endY))\n",
    "\n",
    "\t# only make a predictions if at least one face was detected\n",
    "\tif len(faces) > 0:\n",
    "\t\t# for faster inference we'll make batch predictions on *all*\n",
    "\t\t# faces at the same time rather than one-by-one predictions\n",
    "\t\t# in the above `for` loop\n",
    "\t\tfaces = np.array(faces, dtype=\"float32\")\n",
    "\t\tpreds = maskNet.predict(faces, batch_size=32)\n",
    "\n",
    "\t# return a 2-tuple of the face locations and their corresponding\n",
    "\t# locations\n",
    "\treturn (locs, preds)"
   ]
  },
  {
   "cell_type": "code",
   "execution_count": null,
   "metadata": {},
   "outputs": [],
   "source": [
    "protoPath = \"D:\\\\ML DEEP LEARNING FACE\\\\Masked Face Recognition\\\\face_detector\\\\deploy.prototxt\"\n",
    "weightsPath = \"D:\\\\ML DEEP LEARNING FACE\\\\Masked Face Recognition\\\\face_detector\\\\res10_300x300_ssd_iter_140000.caffemodel\"\n",
    "\n",
    "faceNet = cv2.dnn.readNet(protoPath, weightsPath)"
   ]
  },
  {
   "cell_type": "code",
   "execution_count": null,
   "metadata": {},
   "outputs": [],
   "source": [
    "maskNet = load_model('D:\\\\ML DEEP LEARNING FACE\\\\Masked Face Recognition\\\\face_detector\\\\mask_detector.model')"
   ]
  },
  {
   "cell_type": "code",
   "execution_count": null,
   "metadata": {},
   "outputs": [],
   "source": [
    "VGG_model = load_model(\"D:\\\\ML DEEP LEARNING FACE\\\\Masked Face Recognition\\\\featuresVGG.h5\")\n",
    "RF_model = joblib.load(\"D:\\\\ML DEEP LEARNING FACE\\\\Masked Face Recognition\\\\RFModel.joblib\")"
   ]
  },
  {
   "cell_type": "code",
   "execution_count": null,
   "metadata": {},
   "outputs": [],
   "source": [
    "def predict(img):\n",
    "    if img is None:\n",
    "        return 'Unknown'\n",
    "    img = cv2.resize(img,(SIZE,SIZE))\n",
    "    input_img = np.expand_dims(img, axis=0)\n",
    "    input_img_feature=VGG_model.predict(input_img)\n",
    "    prediction_RF = np.argmax(input_img_feature, axis=1)\n",
    "    prediction_RF = encoder.inverse_transform([prediction_RF])  if prediction_RF<3 else None\n",
    "    return str(prediction_RF)"
   ]
  },
  {
   "cell_type": "code",
   "execution_count": null,
   "metadata": {},
   "outputs": [],
   "source": [
    "img = cv2.imread('/content/drive/MyDrive/Colab Notebooks/Masked Face Recognition/MainDataset/Alia Bhatt/6889155f-5d48-11ed-9c5b-90324b084670.jpg')\n",
    "# max = np.max(predict(img))\n",
    "print(predict(img))\n",
    "# max"
   ]
  },
  {
   "cell_type": "code",
   "execution_count": null,
   "metadata": {},
   "outputs": [],
   "source": [
    "cap = cv2.VideoCapture(0)\n",
    "\n",
    "while True:\n",
    "\t_ , frame = cap.read()\n",
    "\n",
    "\t# detect faces with mask or not\n",
    "\t(locs, preds) = detect_and_predict_mask(frame, faceNet, maskNet)\n",
    "\n",
    "\t# loop over the detected face locations\n",
    "\tfor (box, pred) in zip(locs, preds):\n",
    "\t\t(startX, startY, endX, endY) = box\n",
    "\t\t(mask, withoutMask) = pred\n",
    "\n",
    "\t\tlabel = \"Mask\" if mask > withoutMask else \"No Mask\"\n",
    "\t\tcolor = (0, 255, 0) if label == \"Mask\" else (0, 0, 255)\n",
    "\n",
    "\t\tlabel = \"{}: {:.2f}%\".format(label, max(mask, withoutMask) * 100)\n",
    "\n",
    "\t\tcv2.putText(frame, label, (startX, startY - 10),cv2.FONT_HERSHEY_SIMPLEX, 0.45, color, 2)\n",
    "\t\tcv2.rectangle(frame, (startX, startY), (endX, endY), color, 2)\n",
    "\t\tcv2.rectangle(frame, (startX, startY), (endX, endY-120), (0,0,0), 2)\n",
    "\t\timg = frame[startY:endY-120,startX:endX]\n",
    "\t\t\n",
    "\t\t# cv2.imshow(\"cut\",img)\n",
    "\t\tname = predict(img)\n",
    "\t\tif img is not None:\n",
    "\t\t\tcv2.putText(frame, name, (endX-20, endY+10),cv2.FONT_HERSHEY_SIMPLEX, 0.45, color, 2)\n",
    "  \n",
    "\tcv2.imshow(\"Frame\", frame)\n",
    "\tkey = cv2.waitKey(1) & 0xFF\n",
    "\n",
    "\tif key == ord(\"q\"):\n",
    "\t\tbreak\n",
    "\n",
    "cap.release()\n",
    "cv2.destroyAllWindows()"
   ]
  },
  {
   "cell_type": "code",
   "execution_count": null,
   "metadata": {},
   "outputs": [],
   "source": [
    "featureDetector = load_model(r'face_detector\\featuresVGGDetector.h5')\n",
    "RFDetector = joblib.load(r'face_detector\\RFModelDetector.joblib')"
   ]
  },
  {
   "cell_type": "code",
   "execution_count": null,
   "metadata": {},
   "outputs": [],
   "source": [
    "def detect(img):\n",
    "    if img is None:\n",
    "        return None\n",
    "    img = cv2.resize(img,(224,224))\n",
    "    input_img = np.expand_dims(img, axis=0) #Expand dims so the input is (num images, x, y, c)\n",
    "    input_img_feature=featureDetector.predict(input_img)\n",
    "    prediction_RF = RFDetector.predict(input_img_feature)[0]\n",
    "    prediction = RFDetector.predict_proba(input_img_feature)\n",
    "    return DetectorLabels[prediction_RF],prediction"
   ]
  },
  {
   "cell_type": "code",
   "execution_count": null,
   "metadata": {},
   "outputs": [],
   "source": [
    "img = cv2.imread(r'D:\\ML DEEP LEARNING FACE\\Masked Face Recognition\\data\\MaskImages\\without_mask\\0_0_caizhuoyan_0014.jpg')\n",
    "# max = np.max(predict(img))\n",
    "label, predictions = detect(img)\n",
    "print(label)\n",
    "print(np.max(predictions))"
   ]
  },
  {
   "cell_type": "code",
   "execution_count": null,
   "metadata": {},
   "outputs": [],
   "source": [
    "cap = cv2.VideoCapture(0)\n",
    "cascade_classifier = cv2.CascadeClassifier('D:\\\\ML DEEP LEARNING FACE\\\\Masked Face Recognition\\\\haarcascade_frontalface_default.xml')\n",
    "\n",
    "while cap.isOpened():\n",
    "    ret,frame=cap.read()\n",
    "    gray = cv2.cvtColor(frame,cv2.COLOR_BGR2GRAY)\n",
    "    detection = cascade_classifier.detectMultiScale(gray,1.3,5)\n",
    "#     cv2.imshow('frame',frame)\n",
    "    \n",
    "    for d in detection:\n",
    "        (x,y,w,h)=d\n",
    "        frame = cv2.rectangle(frame,(x,y),(x+w,y+h),(0,255,0),2)\n",
    "        img_crop=frame[y:y+h,x:x+w]\n",
    "        img_crop=cv2.resize(img_crop,(255,255))\n",
    "        label, predictions = detect(img_crop)\n",
    "        img = frame[y:y+h-120,x:x+w]\n",
    "        name = predict(img)\n",
    "        \n",
    "        color = (0, 255, 0) if label == \"Mask\" else (0, 0, 255)\n",
    "        label = \"{}: {:.2f}%\".format(label, np.max(predictions) * 100)\n",
    "\n",
    "        cv2.putText(frame, label, (x, y - 10),cv2.FONT_HERSHEY_SIMPLEX, 0.45, color, 2)\n",
    "        cv2.rectangle(frame, (x, y), (x+w, y+h), color, 2)\n",
    "        cv2.rectangle(frame, (x, y), (x+w, y+h-120), (0,0,0), 2)\n",
    "        cv2.putText(frame, name, (x+w-20, y+h+10),cv2.FONT_HERSHEY_SIMPLEX, 0.45, color, 2)\n",
    "        \n",
    "    cv2.imshow('frame',frame)\n",
    "    \n",
    "    if cv2.waitKey(1) & 0XFF == ord('q'):\n",
    "        break\n",
    "cap.release()\n",
    "cv2.destroyAllWindows()"
   ]
  }
 ],
 "metadata": {
  "kernelspec": {
   "display_name": "Python 3.9.13 64-bit",
   "language": "python",
   "name": "python3"
  },
  "language_info": {
   "name": "python",
   "version": "3.9.13"
  },
  "orig_nbformat": 4,
  "vscode": {
   "interpreter": {
    "hash": "11938c6bc6919ae2720b4d5011047913343b08a43b18698fd82dedb0d4417594"
   }
  }
 },
 "nbformat": 4,
 "nbformat_minor": 2
}
